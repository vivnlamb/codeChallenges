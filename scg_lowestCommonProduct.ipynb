{
 "cells": [
  {
   "cell_type": "code",
   "execution_count": 71,
   "id": "081966d3",
   "metadata": {},
   "outputs": [],
   "source": [
    "#question: find smallest product divisible by all integers up to n\n",
    "#solution by Vivian Lam\n",
    "#January 29, 2024\n",
    "#time started: 15:27:48\n",
    "#time ended: 17:35:56\n",
    "#total time: about 2 hours? \n",
    "\n",
    "def all_primes(num):\n",
    "    #returns list of prime numbers <= n\n",
    "    #prime numbers: divisible only by itself and 1\n",
    "    prime_rib = [1]\n",
    "    \n",
    "    for a in range(2,num+1):\n",
    "        check_a = 2\n",
    "        while(a % check_a != 0 & check_a < a): \n",
    "        #while a is not divisible by integer check_a between 1 and a \n",
    "            check_a += 1\n",
    "        if(check_a == a): #a is prime if not divisible by any number except by itself\n",
    "            prime_rib.append(a)\n",
    "    return prime_rib"
   ]
  },
  {
   "cell_type": "code",
   "execution_count": 8,
   "id": "b24a00f0",
   "metadata": {},
   "outputs": [
    {
     "data": {
      "text/plain": [
       "'\\ntesting function\\n\\nprime_rib = [1]\\n    \\nfor a in range(2,12):\\n    check_a = 2\\n    print(\"a is\",a)\\n    while(a % check_a != 0 & check_a < a): \\n    #while a is not divisible by integer check_a between 1 and a \\n        check_a += 1\\n        print(check_a)\\n    if(check_a == a): #a is prime if not divisible by any number except by itself\\n        prime_rib.append(a)\\nprint(prime_rib)\\n\\n'"
      ]
     },
     "execution_count": 8,
     "metadata": {},
     "output_type": "execute_result"
    }
   ],
   "source": [
    "'''\n",
    "#testing function\n",
    "\n",
    "prime_rib = [1]\n",
    "    \n",
    "for a in range(2,12):\n",
    "    check_a = 2\n",
    "    print(\"a is\",a)\n",
    "    while(a % check_a != 0 & check_a < a): \n",
    "    #while a is not divisible by integer check_a between 1 and a \n",
    "        check_a += 1\n",
    "        print(check_a)\n",
    "    if(check_a == a): #a is prime if not divisible by any number except by itself\n",
    "        prime_rib.append(a)\n",
    "print(prime_rib)\n",
    "\n",
    "'''"
   ]
  },
  {
   "cell_type": "code",
   "execution_count": 11,
   "id": "766b7cca",
   "metadata": {},
   "outputs": [
    {
     "data": {
      "text/plain": [
       "[1, 2, 3, 5, 7, 11, 13, 17, 19]"
      ]
     },
     "execution_count": 11,
     "metadata": {},
     "output_type": "execute_result"
    }
   ],
   "source": [
    "all_primes(21)"
   ]
  },
  {
   "cell_type": "code",
   "execution_count": 56,
   "id": "574dfdd6",
   "metadata": {},
   "outputs": [
    {
     "data": {
      "text/plain": [
       "[2, 5]"
      ]
     },
     "execution_count": 56,
     "metadata": {},
     "output_type": "execute_result"
    }
   ],
   "source": [
    "def prime_factors(num):\n",
    "    p_list = all_primes(num)\n",
    "    p_factors = []\n",
    "    \n",
    "    #thinking about integers 8 = 2*2*2 or 9 = 3*3\n",
    "    #skip first prime 1 or it will infinite loop...\n",
    "    for p in p_list[1:]:\n",
    "        while(num%p== 0 and num > 1):\n",
    "            p_factors.append(p)\n",
    "            num /= p\n",
    "    return p_factors\n",
    "'''\n",
    "#testing function\n",
    "\n",
    "numb = 10\n",
    "pb_listb = all_primes(numb)\n",
    "pb_factorsb = []\n",
    "    \n",
    "for pb in pb_listb[1:]:\n",
    "    print(pb)\n",
    "    while(numb%pb== 0 and numb > 1):\n",
    "        pb_factorsb.append(pb)\n",
    "        numb= numb/pb\n",
    "        print(pb,numb)\n",
    "    \n",
    "print(pb_factorsb)\n",
    "'''\n",
    "\n",
    "prime_factors(10)"
   ]
  },
  {
   "cell_type": "code",
   "execution_count": 66,
   "id": "47bb02b6",
   "metadata": {},
   "outputs": [],
   "source": [
    "#https://math.stackexchange.com/questions/80031/smallest-integer-divisible-by-all-up-to-n\n",
    "def all_prod(num_list):\n",
    "    #returns product of all integers in num_list\n",
    "    num_prod = 1\n",
    "    for n in num_list:\n",
    "        num_prod *= n\n",
    "    return num_prod\n",
    "\n",
    "#want to find the product of all prime numbers that occur integers up to N\n",
    "#1 each integer up to N that is not prime is composed of primes [1,2...p]\n",
    "#2 want to make this a list\n",
    "#3 add this a boss level list of primes if not inside\n",
    "#4 use sets??? except integers repeat and not counted in sets\n",
    "#5 google says use a dictionary\n",
    "def lcf(num):\n",
    "    every_num_list = [x for x in range(1,num+1)]\n",
    "    every_prime_list = all_primes(num)\n",
    "    #it would be great if there is a product shortcut for lists\n",
    "    #wait... i can make it a function (see above)\n",
    "    main_prime_rib = {}\n",
    "    \n",
    "    for a in every_num_list:\n",
    "        a_primes = prime_factors(a)\n",
    "        \n",
    "        #create a dictionary of prime factors and number of occurences\n",
    "        a_prime_rib = {}\n",
    "        for p in a_primes:\n",
    "            if p in a_prime_rib:\n",
    "                a_prime_rib[p] += 1\n",
    "            else:\n",
    "                a_prime_rib[p] = 1\n",
    "            \n",
    "        #check if each prime in a_prime_dict contained in main_prime_dict\n",
    "        #if a_prime > main_prime, set main_prime count to a_prime count\n",
    "        #e.g. if a = 8 = 2*2*2, a_prime[2] = 3 > main_prime[2] = 1\n",
    "        \n",
    "        for key in a_prime_rib:\n",
    "            if key in main_prime_rib:\n",
    "                if(main_prime_rib[key]<a_prime_rib[key]):\n",
    "                    main_prime_rib[key] = a_prime_rib[key]\n",
    "            else:\n",
    "                main_prime_rib[key] = a_prime_rib[key]\n",
    "    \n",
    "    main_prime_list = []\n",
    "    for key in main_prime_rib:\n",
    "        power = main_prime_rib[key]\n",
    "        main_prime_list.append(key**power)\n",
    "    #finding product of all integers <= n\n",
    "    #finding product of all primes <= n\n",
    "    main_product = all_prod(main_prime_list)\n",
    "    return main_product"
   ]
  },
  {
   "cell_type": "code",
   "execution_count": 69,
   "id": "31945ad0",
   "metadata": {},
   "outputs": [
    {
     "data": {
      "text/plain": [
       "'\\n#testing function\\nb_primes = prime_factors(72)\\n        \\n        \\nb_prime_dict = {}\\n\\nfor p in b_primes:\\n    if p in b_prime_dict:\\n        b_prime_dict[p] += 1\\n    else:\\n        b_prime_dict[p] = 1\\n\\n#print(b_prime_dict)\\n\\nmain_prime_dict = {2:1, 3:1}\\n\\nfor key in b_prime_dict:\\n    if key in main_prime_dict:\\n        if(main_prime_dict[key]<b_prime_dict[key]):\\n            main_prime_dict[key] = b_prime_dict[key]\\n    else:\\n        main_prime_dict[key] = b_prime_dict[key]\\n        \\nprint(main_prime_dict)\\n\\nmain_list = []\\nfor key in main_prime_dict:\\n    power = main_prime_dict[key]\\n    main_list.append(key**power)\\nmain_list\\n\\n'"
      ]
     },
     "execution_count": 69,
     "metadata": {},
     "output_type": "execute_result"
    }
   ],
   "source": [
    "'''\n",
    "#testing function\n",
    "b_primes = prime_factors(72)\n",
    "        \n",
    "        \n",
    "b_prime_dict = {}\n",
    "\n",
    "for p in b_primes:\n",
    "    if p in b_prime_dict:\n",
    "        b_prime_dict[p] += 1\n",
    "    else:\n",
    "        b_prime_dict[p] = 1\n",
    "\n",
    "#print(b_prime_dict)\n",
    "\n",
    "main_prime_dict = {2:1, 3:1}\n",
    "\n",
    "for key in b_prime_dict:\n",
    "    if key in main_prime_dict:\n",
    "        if(main_prime_dict[key]<b_prime_dict[key]):\n",
    "            main_prime_dict[key] = b_prime_dict[key]\n",
    "    else:\n",
    "        main_prime_dict[key] = b_prime_dict[key]\n",
    "        \n",
    "print(main_prime_dict)\n",
    "\n",
    "main_list = []\n",
    "for key in main_prime_dict:\n",
    "    power = main_prime_dict[key]\n",
    "    main_list.append(key**power)\n",
    "main_list\n",
    "\n",
    "'''"
   ]
  },
  {
   "cell_type": "code",
   "execution_count": 63,
   "id": "964658f2",
   "metadata": {},
   "outputs": [
    {
     "data": {
      "text/plain": [
       "'\\n#testing function\\nall_nums = [x for x in range(1,11)]\\n\\ntesting function: all_prod\\nevery_10 = [x for x in range(1,11)]\\nall_prod(every_10)\\n\\n#sets only return unique values\\nset([2,2,2]).difference(set([2,2, 3, 3, 5]))\\n'"
      ]
     },
     "execution_count": 63,
     "metadata": {},
     "output_type": "execute_result"
    }
   ],
   "source": [
    "'''\n",
    "#testing function\n",
    "all_nums = [x for x in range(1,11)]\n",
    "\n",
    "testing function: all_prod\n",
    "every_10 = [x for x in range(1,11)]\n",
    "all_prod(every_10)\n",
    "\n",
    "#sets only return unique values\n",
    "set([2,2,2]).difference(set([2,2, 3, 3, 5]))\n",
    "'''"
   ]
  },
  {
   "cell_type": "code",
   "execution_count": 27,
   "id": "4c0af687",
   "metadata": {},
   "outputs": [
    {
     "data": {
      "text/plain": [
       "[1, 2, 3, 5, 7]"
      ]
     },
     "execution_count": 27,
     "metadata": {},
     "output_type": "execute_result"
    }
   ],
   "source": [
    "all_primes(10)"
   ]
  },
  {
   "cell_type": "code",
   "execution_count": 70,
   "id": "66db2687",
   "metadata": {},
   "outputs": [
    {
     "data": {
      "text/plain": [
       "2520"
      ]
     },
     "execution_count": 70,
     "metadata": {},
     "output_type": "execute_result"
    }
   ],
   "source": [
    "lcf(10)"
   ]
  },
  {
   "cell_type": "code",
   "execution_count": null,
   "id": "15a7335f",
   "metadata": {},
   "outputs": [],
   "source": []
  }
 ],
 "metadata": {
  "kernelspec": {
   "display_name": "Python 3 (ipykernel)",
   "language": "python",
   "name": "python3"
  },
  "language_info": {
   "codemirror_mode": {
    "name": "ipython",
    "version": 3
   },
   "file_extension": ".py",
   "mimetype": "text/x-python",
   "name": "python",
   "nbconvert_exporter": "python",
   "pygments_lexer": "ipython3",
   "version": "3.9.6"
  }
 },
 "nbformat": 4,
 "nbformat_minor": 5
}
